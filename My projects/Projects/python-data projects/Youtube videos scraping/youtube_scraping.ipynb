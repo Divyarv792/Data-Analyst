{
 "cells": [
  {
   "cell_type": "code",
   "execution_count": 7,
   "id": "e2e2fd9e",
   "metadata": {},
   "outputs": [
    {
     "name": "stdout",
     "output_type": "stream",
     "text": [
      "The count of all charactes in videoId: [('Q', 104), ('s', 103), ('o', 96), ('M', 95), ('0', 93), ('A', 91), ('w', 90), ('4', 85), ('c', 84), ('U', 82), ('k', 78), ('g', 76), ('I', 75), ('8', 74), ('p', 74), ('E', 72), ('O', 72), ('r', 70), ('G', 70), ('X', 70), ('f', 67), ('d', 66), ('_', 65), ('x', 65), ('m', 64), ('j', 64), ('b', 64), ('P', 64), ('Y', 64), ('R', 63), ('2', 63), ('7', 63), ('1', 63), ('6', 62), ('W', 62), ('a', 62), ('t', 62), ('K', 61), ('S', 61), ('v', 61), ('i', 61), ('3', 60), ('y', 60), ('H', 60), ('C', 59), ('B', 58), ('D', 57), ('u', 57), ('Z', 57), ('9', 56), ('N', 56), ('L', 56), ('l', 56), ('-', 55), ('V', 54), ('e', 54), ('h', 53), ('z', 52), ('J', 50), ('F', 50), ('T', 46), ('n', 45), ('q', 41), ('5', 40)]\n",
      "The most repeated char is: ('Q', 104)\n",
      "The link&date.xlsx file has the list of video's URL and respective Uploaddates that are uploaded between August 8, 2023 and May 22, 2023.\n"
     ]
    }
   ],
   "source": [
    "import scrapetube\n",
    "import pandas as pd\n",
    "from bs4 import BeautifulSoup as bs\n",
    "from requests_html import HTMLSession\n",
    "import datetime\n",
    "import warnings\n",
    "import collections\n",
    "warnings.filterwarnings(\"ignore\")\n",
    "import os\n",
    "s=HTMLSession()\n",
    "url=\"https://www.youtube.com/@tseries/videos\"\n",
    "headers = {\"User-Agent\":\"Mozilla/5.0 (Windows NT 10.0; Win64; x64) AppleWebKit/537.36 (KHTML, like Gecko) Chrome/116.0.0.0 Safari/537.36\", \"Accept-Encoding\":\"gzip, deflate\", \"Accept\":\"text/html,application/xhtml+xml,application/xml;q=0.9,*/*;q=0.8\", \"DNT\":\"1\",\"Connection\":\"close\", \"Upgrade-Insecure-Requests\":\"1\"}\n",
    "data = s.get(url, headers=headers)\n",
    "soup=bs(data.content,'html')\n",
    "channel_id=soup.find('link',title='RSS').get('href').split('=')[1]\n",
    "url=\"https://www.youtube.com/watch?v=\"\n",
    "df=pd.DataFrame(columns=['URL','Upload_date'])\n",
    "vids=[]\n",
    "letter_counts = collections.defaultdict(int)\n",
    "videos=scrapetube.get_channel(channel_id,sort_by=\"newest\")\n",
    "for video in videos:\n",
    "    url1=url+str(video['videoId'])\n",
    "    datas = s.get(url1, headers=headers)\n",
    "    soup1=bs(datas.content,'html')\n",
    "    datasb=soup1.find('div',class_='watch-main-col')\n",
    "    dates=str(datasb.find('meta',itemprop='uploadDate')).split('\"')[1]\n",
    "    date = datetime.datetime.strptime(dates, \"%Y-%m-%d\").date()\n",
    "    start = datetime.datetime.strptime(\"2023-05-22\", \"%Y-%m-%d\").date()\n",
    "    end = datetime.datetime.strptime(\"2023-08-08\", \"%Y-%m-%d\").date()\n",
    "    if start <= date <= end:\n",
    "        vids.append(str(video['videoId']))\n",
    "        df=df.append({'URL':url1,'Upload_date':date.strftime('%B %d, %Y')},ignore_index=True)\n",
    "    elif date < start:\n",
    "        break\n",
    "for vid in vids:\n",
    "    for letter in vid:\n",
    "            letter_counts[letter] += 1\n",
    "rep_char = sorted(letter_counts.items(), key=lambda x: x[1], reverse=True)\n",
    "print(\"The count of all charactes in videoId:\",rep_char)\n",
    "print(\"The most repeated char is:\",rep_char[0])\n",
    "df.to_excel('link&date.xlsx',encoding='ISO-8859-1',index=False)\n",
    "print(\"The link&date.xlsx file has the list of video's URL and respective Uploaddates that are uploaded between August 8, 2023 and May 22, 2023.\")\n",
    "\n"
   ]
  }
 ],
 "metadata": {
  "kernelspec": {
   "display_name": "Python 3 (ipykernel)",
   "language": "python",
   "name": "python3"
  },
  "language_info": {
   "codemirror_mode": {
    "name": "ipython",
    "version": 3
   },
   "file_extension": ".py",
   "mimetype": "text/x-python",
   "name": "python",
   "nbconvert_exporter": "python",
   "pygments_lexer": "ipython3",
   "version": "3.11.4"
  }
 },
 "nbformat": 4,
 "nbformat_minor": 5
}
