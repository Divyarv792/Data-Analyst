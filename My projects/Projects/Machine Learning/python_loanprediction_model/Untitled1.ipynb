{
 "cells": [
  {
   "cell_type": "code",
   "execution_count": 1,
   "id": "f6074ea7",
   "metadata": {},
   "outputs": [],
   "source": [
    "import pandas as pd\n"
   ]
  },
  {
   "cell_type": "code",
   "execution_count": 2,
   "id": "07a0226b",
   "metadata": {},
   "outputs": [],
   "source": [
    "list=[\"akita@securitybrigade.com\", \"raiden.shogun@inazuma.com\", \"sam_fisher@splintercell.co.org\", \"giyu@hashiras.com\"]"
   ]
  },
  {
   "cell_type": "code",
   "execution_count": 7,
   "id": "ce818248",
   "metadata": {},
   "outputs": [
    {
     "name": "stdout",
     "output_type": "stream",
     "text": [
      "securitybrigade\n",
      "inazuma\n",
      "splintercell\n",
      "hashiras\n"
     ]
    }
   ],
   "source": [
    "for l in list:\n",
    "    company_name=l.split('@')[1].split('.')[0]\n",
    "    print(company_name)"
   ]
  },
  {
   "cell_type": "code",
   "execution_count": 75,
   "id": "f1af6fa5",
   "metadata": {},
   "outputs": [],
   "source": [
    "mystr=\" hi , how are you ?\"\n",
    "rev=mystr.split()"
   ]
  },
  {
   "cell_type": "code",
   "execution_count": 76,
   "id": "8c08e46a",
   "metadata": {},
   "outputs": [
    {
     "data": {
      "text/plain": [
       "['hi', ',', 'how', 'are', 'you', '?']"
      ]
     },
     "execution_count": 76,
     "metadata": {},
     "output_type": "execute_result"
    }
   ],
   "source": [
    "rev"
   ]
  },
  {
   "cell_type": "code",
   "execution_count": 78,
   "id": "48814997",
   "metadata": {},
   "outputs": [
    {
     "name": "stdout",
     "output_type": "stream",
     "text": [
      " ? you are how , hi\n"
     ]
    }
   ],
   "source": [
    "h=rev[::-1]\n",
    "string=\"\"\n",
    "for i in h:\n",
    "    string= string+\" \"+i\n",
    "print(string)"
   ]
  },
  {
   "cell_type": "markdown",
   "id": "41f01534",
   "metadata": {},
   "source": [
    "\"? you are how , hi"
   ]
  },
  {
   "cell_type": "code",
   "execution_count": 65,
   "id": "1f9761bf",
   "metadata": {},
   "outputs": [
    {
     "name": "stdout",
     "output_type": "stream",
     "text": [
      "? you are how , hi\n"
     ]
    }
   ],
   "source": [
    "list=\" hi , how are you ?\"\n",
    "print(\" \".join(list.split()[::-1]))"
   ]
  },
  {
   "cell_type": "code",
   "execution_count": 17,
   "id": "0657c884",
   "metadata": {},
   "outputs": [],
   "source": [
    "list1=[100,99,23,24,8,99,100,100]\n"
   ]
  },
  {
   "cell_type": "code",
   "execution_count": 24,
   "id": "2ce02dc3",
   "metadata": {},
   "outputs": [
    {
     "name": "stdout",
     "output_type": "stream",
     "text": [
      "0\n",
      "0\n",
      "0\n",
      "0\n",
      "0\n",
      "0\n",
      "0\n",
      "0\n"
     ]
    }
   ],
   "source": [
    "list1.sort()\n",
    "second = 0\n",
    "for l in list1:\n",
    "    if l > list1[-1]:\n",
    "        second = l\n",
    "    else:\n",
    "        print(second)\n",
    "    "
   ]
  },
  {
   "cell_type": "code",
   "execution_count": 19,
   "id": "d9846d07",
   "metadata": {},
   "outputs": [
    {
     "data": {
      "text/plain": [
       "[8, 23, 24, 99, 99, 100, 100, 100]"
      ]
     },
     "execution_count": 19,
     "metadata": {},
     "output_type": "execute_result"
    }
   ],
   "source": [
    "list1"
   ]
  },
  {
   "cell_type": "code",
   "execution_count": 29,
   "id": "d7004d30",
   "metadata": {},
   "outputs": [
    {
     "name": "stdout",
     "output_type": "stream",
     "text": [
      "99\n"
     ]
    }
   ],
   "source": [
    "second = 0\n",
    "for l in list1:\n",
    "    if l < list1[-1]:\n",
    "        second = l\n",
    "    else:\n",
    "        break\n",
    "print(second)"
   ]
  },
  {
   "cell_type": "code",
   "execution_count": 58,
   "id": "885ecfeb",
   "metadata": {},
   "outputs": [],
   "source": [
    "sentence = \"dread it run from it destiny still arrives\"\n",
    "word_list = sentence.split()\n"
   ]
  },
  {
   "cell_type": "code",
   "execution_count": 59,
   "id": "55355133",
   "metadata": {},
   "outputs": [
    {
     "data": {
      "text/plain": [
       "['dread', 'it', 'run', 'from', 'it', 'destiny', 'still', 'arrives']"
      ]
     },
     "execution_count": 59,
     "metadata": {},
     "output_type": "execute_result"
    }
   ],
   "source": [
    "word_list"
   ]
  },
  {
   "cell_type": "code",
   "execution_count": 60,
   "id": "8d6c094d",
   "metadata": {},
   "outputs": [],
   "source": [
    "reversed_list = word_list[:: -1]\n"
   ]
  },
  {
   "cell_type": "code",
   "execution_count": 61,
   "id": "88436996",
   "metadata": {},
   "outputs": [
    {
     "data": {
      "text/plain": [
       "['arrives', 'still', 'destiny', 'it', 'from', 'run', 'it', 'dread']"
      ]
     },
     "execution_count": 61,
     "metadata": {},
     "output_type": "execute_result"
    }
   ],
   "source": [
    "reversed_list"
   ]
  },
  {
   "cell_type": "code",
   "execution_count": 62,
   "id": "d90e094e",
   "metadata": {},
   "outputs": [],
   "source": [
    "reversed_sentence = \" \".join(reversed_list)\n"
   ]
  },
  {
   "cell_type": "code",
   "execution_count": 63,
   "id": "987a48c2",
   "metadata": {},
   "outputs": [
    {
     "data": {
      "text/plain": [
       "'arrives still destiny it from run it dread'"
      ]
     },
     "execution_count": 63,
     "metadata": {},
     "output_type": "execute_result"
    }
   ],
   "source": [
    "reversed_sentence"
   ]
  },
  {
   "cell_type": "code",
   "execution_count": null,
   "id": "f4403c3d",
   "metadata": {},
   "outputs": [],
   "source": []
  }
 ],
 "metadata": {
  "kernelspec": {
   "display_name": "Python 3 (ipykernel)",
   "language": "python",
   "name": "python3"
  },
  "language_info": {
   "codemirror_mode": {
    "name": "ipython",
    "version": 3
   },
   "file_extension": ".py",
   "mimetype": "text/x-python",
   "name": "python",
   "nbconvert_exporter": "python",
   "pygments_lexer": "ipython3",
   "version": "3.11.4"
  }
 },
 "nbformat": 4,
 "nbformat_minor": 5
}
